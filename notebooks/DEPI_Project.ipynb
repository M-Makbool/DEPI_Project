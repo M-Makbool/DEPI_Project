{
 "cells": [
  {
   "cell_type": "code",
   "execution_count": null,
   "metadata": {
    "notebookRunGroups": {
     "groupValue": "1"
    }
   },
   "outputs": [],
   "source": [
    "!pip install sqlalchemy\n",
    "!pip install pandas\n",
    "!pip install pyodbc\n",
    "!pip install matplotlib\n",
    "!pip install seaborn\n",
    "!pip install kagglehub\n",
    "\n",
    "from sqlalchemy import create_engine\n",
    "import pandas as pd\n",
    "import pyodbc\n",
    "import matplotlib.pyplot as plt\n",
    "import seaborn as sns\n",
    "import kagglehub\n"
   ]
  },
  {
   "cell_type": "code",
   "execution_count": null,
   "metadata": {},
   "outputs": [],
   "source": [
    "#Connect to the SQL Server\n",
    "conn = pyodbc.connect('Driver={SQL Server};'\n",
    "                      'Server=localhost;'\n",
    "                      'Database=CustomerReviews1;'\n",
    "                      'Trusted_Connection=yes;')\n",
    "\n",
    "#Query to get data frame from the CustomerReviews1 table\n",
    "query = \"SELECT * FROM CustomerReviews2\"\n",
    "df = pd.read_sql(query, conn)\n",
    "conn.close()"
   ]
  },
  {
   "cell_type": "code",
   "execution_count": null,
   "metadata": {
    "notebookRunGroups": {
     "groupValue": "1"
    }
   },
   "outputs": [],
   "source": [
    "# Download latest version of dataset from kaggle\n",
    "path = kagglehub.dataset_download(\"chaudharyanshul/airline-reviews\")\n",
    "print(\"Path to dataset files:\", path)"
   ]
  },
  {
   "cell_type": "code",
   "execution_count": null,
   "metadata": {
    "notebookRunGroups": {
     "groupValue": "1"
    }
   },
   "outputs": [],
   "source": [
    "#Read the csv file and make a data frame\n",
    "full_path = path + '/BA_AirlineReviews.csv'\n",
    "!mv $full_path .\n",
    "df = pd.read_csv('./BA_AirlineReviews.csv')\n",
    "df"
   ]
  },
  {
   "cell_type": "code",
   "execution_count": null,
   "metadata": {},
   "outputs": [],
   "source": [
    "# Check for invalid date formats\n",
    "invalid_dates = df[~df['Datetime'].str.match(r'^\\d{4}-\\d{2}-\\d{2}$') | df['Datetime'].isnull()]\n",
    "invalid_dates"
   ]
  },
  {
   "cell_type": "code",
   "execution_count": null,
   "metadata": {},
   "outputs": [],
   "source": [
    "# Display the invalid dates\n",
    "print(\"Invalid Dates:\")\n",
    "print(invalid_dates.count())"
   ]
  },
  {
   "cell_type": "code",
   "execution_count": null,
   "metadata": {},
   "outputs": [],
   "source": [
    "#Explore the Data\n",
    "# Renaming the 'ID' column\n",
    "column_index_to_rename = 0 # Index of the 'ID' column\n",
    "new_column_name = 'ID'\n",
    "\n",
    "# Renaming the column using the 'rename' method\n",
    "df.rename(columns={df.columns[column_index_to_rename]: new_column_name}, inplace=True)\n",
    "\n",
    "print(df)                  # Displaying the DataFrame after renaming\n",
    "print(df.info())           # Get info on data types and non-null counts\n",
    "print(df.describe())       # Get basic statistics for numeric columns"
   ]
  },
  {
   "cell_type": "code",
   "execution_count": null,
   "metadata": {},
   "outputs": [],
   "source": [
    "# Print the number of null values per column\n",
    "print(df.isnull().sum())"
   ]
  },
  {
   "cell_type": "code",
   "execution_count": null,
   "metadata": {},
   "outputs": [],
   "source": [
    "# Visualize the null values as a heatmap\n",
    "plt.figure(figsize=(10, 6))\n",
    "sns.heatmap(df.isnull(), cbar=False, cmap='viridis')\n",
    "plt.show()"
   ]
  },
  {
   "cell_type": "code",
   "execution_count": 9,
   "metadata": {},
   "outputs": [],
   "source": [
    "#Drop the specified columns\n",
    "df.drop(columns =\n",
    "    ['ID','ReviewHeader','ReviewBody','Aircraft','Wifi&Connectivity', 'InflightEntertainment' ], inplace=True)"
   ]
  },
  {
   "cell_type": "code",
   "execution_count": null,
   "metadata": {},
   "outputs": [],
   "source": [
    "# Visualize the null values as a heatmap\n",
    "plt.figure(figsize=(10, 6))\n",
    "sns.heatmap(df.isnull(), cbar=False, cmap='viridis')\n",
    "plt.show()"
   ]
  },
  {
   "cell_type": "code",
   "execution_count": null,
   "metadata": {},
   "outputs": [],
   "source": [
    "# Step 2: \n",
    "# Identify object type columns\n",
    "object_columns = df.select_dtypes(include='object').columns\n",
    "\n",
    "\n",
    "\n",
    "for column in df.columns:\n",
    "    # Fill the null values in numerical columns by the median of each SeatType category\n",
    "    if df[column].dtypes == 'float64':\n",
    "       df[column] = df.groupby('SeatType')[column].transform(lambda x: x.fillna(x.median()))\n",
    "    #Drop rows with null values in object type columns\n",
    "    elif df[column].dtype == 'object':\n",
    "         df.dropna(subset=[column], inplace=True)\n",
    "\n",
    "\n",
    "# Verify the result\n",
    "print(df.info())  # Get info on data types and non-null counts\n",
    "print(df.isnull().sum())  # Print the number of null values per column"
   ]
  },
  {
   "cell_type": "code",
   "execution_count": null,
   "metadata": {},
   "outputs": [],
   "source": [
    "# Visualize the null values as a heatmap\n",
    "plt.figure(figsize=(10, 6))\n",
    "sns.heatmap(df.isnull(), cbar=False, cmap='viridis')\n",
    "plt.show()"
   ]
  },
  {
   "cell_type": "code",
   "execution_count": null,
   "metadata": {},
   "outputs": [],
   "source": [
    "# Visualize the Distribution\n",
    "CatogiralColumns=['VerifiedReview','TypeOfTraveller','SeatType']\n",
    "# Loop through each column in the DataFrame\n",
    "for column in df.columns:\n",
    "    # Check if the column is numeric\n",
    "    if df[column].dtype == 'float64':\n",
    "        #Plot histogram\n",
    "        sns.histplot(df[column], bins=30, kde=True)\n",
    "        plt.title(f'Distribution of {column}')\n",
    "        plt.xlabel(column)\n",
    "        plt.ylabel('Frequency')\n",
    "        plt.show()\n",
    "    elif df[column].dtype == 'bool' or column in CatogiralColumns:\n",
    "        #Plot count plot for categorical columns\n",
    "        plt.figure(figsize=(10, 4))\n",
    "        sns.countplot(y=df[column])\n",
    "        plt.title(f'Distribution of {column}')\n",
    "        plt.ylabel(column)\n",
    "        plt.xlabel('Count')\n",
    "        plt.show()"
   ]
  },
  {
   "cell_type": "code",
   "execution_count": 15,
   "metadata": {},
   "outputs": [],
   "source": [
    "df.to_csv('./CustomerService2.csv', index=False)"
   ]
  },
  {
   "cell_type": "code",
   "execution_count": null,
   "metadata": {},
   "outputs": [],
   "source": [
    "#Database connection details\n",
    "server = 'localhost'\n",
    "database = 'CustomerReviews2'\n",
    "driver = 'ODBC Driver 17 for SQL Server'\n",
    "\n",
    "#Connection string to connect DB\n",
    "connection_string = f\"mssql+pyodbc://{server}/{database}?driver={driver}\"\n",
    "engine = create_engine(connection_string)\n",
    "\n",
    "#Save the DataFrame to new DB and replace table if it exists\n",
    "df.to_sql('CustomerService2', engine, if_exists='replace', index=False)\n",
    "print(\"DataFrame saved successfully to SQL Server!\")"
   ]
  },
   {
   "cell_type": "code",
   "execution_count": 3,
   "metadata": {},
   "outputs": [],
   "source": [
    "\n",
    "from sqlalchemy import create_engine\n",
    "import pandas as pd\n",
    "import pyodbc\n",
    "import matplotlib.pyplot as plt\n",
    "import seaborn as sns"
   ]
  },
  {
   "cell_type": "code",
   "execution_count": null,
   "metadata": {},
   "outputs": [],
   "source": [
    "#Connect to the SQL Server\n",
    "conn = pyodbc.connect('Driver={SQL Server};'\n",
    "                      'Server=localhost;'\n",
    "                      'Database=CustomerFeedbackDW;'\n",
    "                      'Trusted_Connection=yes;')"
   ]
  },
  {
   "cell_type": "code",
   "execution_count": null,
   "metadata": {},
   "outputs": [],
   "source": [
    "#Read the csv file and make a data frame\n",
    "data = pd.read_csv('./CustomerService2.csv')\n",
    "data"
   ]
  },
  {
   "cell_type": "code",
   "execution_count": null,
   "metadata": {},
   "outputs": [],
   "source": [
    "# Querying data from the data warehouse\n",
    "query = \"\"\"\n",
    "SELECT \n",
    "    c.Name AS CustomerName, \n",
    "    c.VerifiedReview,\n",
    "    st.SeatType, \n",
    "    tt.TypeOfTraveller, \n",
    "    fr.SeatComfort, \n",
    "    t.Date\n",
    "FROM \n",
    "    Fact_Review fr\n",
    "JOIN \n",
    "    Dim_Customer c ON fr.CustomerID = c.CustomerID\n",
    "JOIN \n",
    "    Dim_SeatType st ON fr.SeatTypeID = st.SeatTypeID\n",
    "JOIN \n",
    "    Dim_TravellerType tt ON fr.TravellerTypeID = tt.TravellerTypeID\n",
    "JOIN \n",
    "    Dim_Time t ON fr.DateKey = t.DateKey\n",
    "\"\"\"\n",
    "data = pd.read_sql(query, conn)\n",
    "\n",
    "# Close the connection\n",
    "conn.close()\n",
    "\n",
    "# Displaying the first few rows of the dataframe\n",
    "print(data.head())"
   ]
  },
  {
   "cell_type": "code",
   "execution_count": null,
   "metadata": {},
   "outputs": [],
   "source": [
    "# Set the style\n",
    "sns.set_theme(style=\"whitegrid\")\n",
    "\n",
    "# Create a count plot for OverallRating\n",
    "plt.figure(figsize=(10, 6))\n",
    "sns.countplot(data=data, x='OverallRating', palette='viridis')\n",
    "plt.title('Distribution of Overall Ratings')\n",
    "plt.xlabel('Overall Rating')\n",
    "plt.ylabel('Count')\n",
    "plt.xticks(rotation=45)\n",
    "plt.show()\n",
    "\n",
    "\n",
    "plt.figure(figsize=(10, 6))\n",
    "sns.boxplot(data=data, x='SeatComfort', y='OverallRating', palette='coolwarm')\n",
    "plt.title('Seat Comfort vs. Overall Rating')\n",
    "plt.xlabel('Seat Comfort Rating')\n",
    "plt.ylabel('Overall Rating')\n",
    "plt.show()\n",
    "\n",
    "\n",
    "\n",
    "plt.figure(figsize=(10, 6))\n",
    "sns.countplot(data=data, x='TravellerTypeID', hue='Recommended', palette='pastel')\n",
    "plt.title('Recommendations by Traveller Type')\n",
    "plt.xlabel('Traveller Type ID')\n",
    "plt.ylabel('Count')\n",
    "plt.legend(title='Recommended', loc='upper right')\n",
    "plt.show()\n",
    "\n",
    "\n",
    "\n",
    "# Ensure Datetime is in datetime format\n",
    "data['Datetime'] = pd.to_datetime(data['Datetime'])\n",
    "\n",
    "\n",
    "\n",
    "# Create a box plot to show the distribution of OverallRating\n",
    "plt.figure(figsize=(10, 6))\n",
    "sns.boxplot(x='Recommended', y='OverallRating', data=data, palette='pastel')\n",
    "plt.title('Overall Rating Distribution by Recommendation')\n",
    "plt.xlabel('Recommended')\n",
    "plt.ylabel('Overall Rating')\n",
    "plt.xticks(ticks=[0, 1], labels=['Not Recommended (0)', 'Recommended (1)'])\n",
    "plt.show()\n",
    "\n",
    "\n",
    "\n",
    "# Calculate average OverallRating for each Recommendation category\n",
    "average_rating = data.groupby('Recommended')['OverallRating'].mean().reset_index()\n",
    "\n",
    "# Plotting the average OverallRating\n",
    "plt.figure(figsize=(8, 5))\n",
    "sns.barplot(x='Recommended', y='OverallRating', data=average_rating, palette='viridis')\n",
    "plt.title('Average Overall Rating by Recommendation')\n",
    "plt.xlabel('Recommended')\n",
    "plt.ylabel('Average Overall Rating')\n",
    "plt.xticks(ticks=[0, 1], labels=['Not Recommended (0)', 'Recommended (1)'])\n",
    "plt.show()\n",
    "\n",
    "\n",
    "\n",
    "# Summary statistics for OverallRating\n",
    "print(data['OverallRating'].describe())\n",
    "\n",
    "# Count of Recommended\n",
    "recommended_counts = data['Recommended'].value_counts()\n",
    "print(recommended_counts)\n",
    "\n",
    "\n",
    "\n",
    "# Create a count plot for OverallRating colored by Recommended\n",
    "plt.figure(figsize=(10, 6))\n",
    "sns.countplot(data=data, x='OverallRating', hue='Recommended', palette='muted')\n",
    "plt.title('Count of Recommendations by Overall Rating')\n",
    "plt.xlabel('Overall Rating')\n",
    "plt.ylabel('Count')\n",
    "plt.legend(title='Recommended', loc='upper right', labels=['No (0)', 'Yes (1)'])\n",
    "plt.show()"
   ]
  },
  {
   "cell_type": "code",
   "execution_count": null,
   "metadata": {},
   "outputs": [],
   "source": [
    "# Check if 'SeatType' and 'SeatComfort' exist\n",
    "if 'SeatType' in data.columns and 'SeatComfort' in data.columns:\n",
    "    # Create a box plot for SeatComfort by SeatType\n",
    "    plt.figure(figsize=(12, 6))\n",
    "    sns.boxplot(data=data, x='SeatType', y='SeatComfort', palette='muted')\n",
    "    plt.title('Seat Comfort Ratings by Seat Type')\n",
    "    plt.xlabel('Seat Type')\n",
    "    plt.ylabel('Seat Comfort Rating')\n",
    "    plt.xticks(rotation=45)  # Rotate x labels for better readability\n",
    "    plt.ylim(0, 10)  # Adjust based on the expected rating scale\n",
    "    plt.show()\n",
    "\n",
    "    # Calculate the average seat comfort for each SeatType\n",
    "    average_comfort = data.groupby('SeatType')['SeatComfort'].mean().reset_index()\n",
    "\n",
    "    # Plotting the average seat comfort\n",
    "    plt.figure(figsize=(10, 5))\n",
    "    sns.barplot(x='SeatType', y='SeatComfort', data=average_comfort, palette='viridis')\n",
    "    plt.title('Average Seat Comfort Rating by Seat Type')\n",
    "    plt.xlabel('Seat Type')\n",
    "    plt.ylabel('Average Seat Comfort Rating')\n",
    "    plt.xticks(rotation=45)  # Rotate x labels for better readability\n",
    "    plt.ylim(0, 10)  # Adjust based on the expected rating scale\n",
    "    plt.show()\n",
    "else:\n",
    "    print(\"One or both of the columns 'SeatType' and 'SeatComfort' are missing from the DataFrame.\")\n"
   ]
  },
  {
   "cell_type": "code",
   "execution_count": null,
   "metadata": {},
   "outputs": [],
   "source": [
    "plt.savefig('plot_name.png', dpi=300)  # Save with high resolution"
   ]
  }
 ],
 "metadata": {
  "kernelspec": {
   "display_name": "Python 3",
   "language": "python",
   "name": "python3"
  },
  "language_info": {
   "codemirror_mode": {
    "name": "ipython",
    "version": 3
   },
   "file_extension": ".py",
   "mimetype": "text/x-python",
   "name": "python",
   "nbconvert_exporter": "python",
   "pygments_lexer": "ipython3",
   "version": "3.8.10"
  }
 },
 "nbformat": 4,
 "nbformat_minor": 2
}
